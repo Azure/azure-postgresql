{
    "metadata": {
        "kernelspec": {
            "name": "SQL",
            "display_name": "SQL",
            "language": "sql"
        },
        "language_info": {
            "name": "sql",
            "version": ""
        }
    },
    "nbformat_minor": 2,
    "nbformat": 4,
    "cells": [
        {
            "cell_type": "markdown",
            "source": "# Postgres Database Health Check Notebook\r\n",
            "metadata": {}
        },
        {
            "cell_type": "markdown",
            "source": "## Monitor Cache Hit Ratio\r\nYour cache hit ratio tells you how often your data is served from in memory vs. having to go to disk. Serving from memory vs. going to disk will be orders of magnitude faster, thus the more you can keep in memory the better. Of course you could provision an instance with as much memory as you have data, but you don’t necessarily have to. You can monitor your cache hit ratio with following script:\r\n#### 99% is a good metric for proper performance. \r\n",
            "metadata": {}
        },
        {
            "cell_type": "code",
            "source": "SELECT \r\n  sum(heap_blks_read) as heap_read,\r\n  sum(heap_blks_hit)  as heap_hit,\r\n  sum(heap_blks_hit) / (sum(heap_blks_hit) + sum(heap_blks_read)) as ratio\r\nFROM \r\n  pg_statio_user_tables;",
            "metadata": {},
            "outputs": [],
            "execution_count": 2
        },
        {
            "cell_type": "markdown",
            "source": "## Monitor Dead Tuples\r\nUnder the covers Postgres is essentially a giant append only log. When you write data it appends to the log, when you update data it marks the old record as invalid and writes a new one, when you delete data it just marks it invalid. Later Postgres comes through and vacuums those dead records (also known as tuples). \r\nAll those unvacuumed dead tuples are what is known as bloat. Bloat can slow down other writes and create other issues. Paying attention to your bloat and when it is getting out of hand can be key for tuning vacuum on your database. \r\n\r\n#### Query courtesy of Heroku’s pg-extras (https://github.com/heroku/heroku-pg-extras/tree/master/commands)\r\n",
            "metadata": {}
        },
        {
            "cell_type": "code",
            "source": "WITH constants AS (\r\n  SELECT current_setting('block_size')::numeric AS bs, 23 AS hdr, 4 AS ma\r\n), bloat_info AS (\r\n  SELECT\r\n    ma,bs,schemaname,tablename,\r\n    (datawidth+(hdr+ma-(case when hdr%ma=0 THEN ma ELSE hdr%ma END)))::numeric AS datahdr,\r\n    (maxfracsum*(nullhdr+ma-(case when nullhdr%ma=0 THEN ma ELSE nullhdr%ma END))) AS nullhdr2\r\n  FROM (\r\n    SELECT\r\n      schemaname, tablename, hdr, ma, bs,\r\n      SUM((1-null_frac)*avg_width) AS datawidth,\r\n      MAX(null_frac) AS maxfracsum,\r\n      hdr+(\r\n        SELECT 1+count(*)/8\r\n        FROM pg_stats s2\r\n        WHERE null_frac<>0 AND s2.schemaname = s.schemaname AND s2.tablename = s.tablename\r\n      ) AS nullhdr\r\n    FROM pg_stats s, constants\r\n    GROUP BY 1,2,3,4,5\r\n  ) AS foo\r\n), table_bloat AS (\r\n  SELECT\r\n    schemaname, tablename, cc.relpages, bs,\r\n    CEIL((cc.reltuples*((datahdr+ma-\r\n      (CASE WHEN datahdr%ma=0 THEN ma ELSE datahdr%ma END))+nullhdr2+4))/(bs-20::float)) AS otta\r\n  FROM bloat_info\r\n  JOIN pg_class cc ON cc.relname = bloat_info.tablename\r\n  JOIN pg_namespace nn ON cc.relnamespace = nn.oid AND nn.nspname = bloat_info.schemaname AND nn.nspname <> 'information_schema'\r\n), index_bloat AS (\r\n  SELECT\r\n    schemaname, tablename, bs,\r\n    COALESCE(c2.relname,'?') AS iname, COALESCE(c2.reltuples,0) AS ituples, COALESCE(c2.relpages,0) AS ipages,\r\n    COALESCE(CEIL((c2.reltuples*(datahdr-12))/(bs-20::float)),0) AS iotta -- very rough approximation, assumes all cols\r\n  FROM bloat_info\r\n  JOIN pg_class cc ON cc.relname = bloat_info.tablename\r\n  JOIN pg_namespace nn ON cc.relnamespace = nn.oid AND nn.nspname = bloat_info.schemaname AND nn.nspname <> 'information_schema'\r\n  JOIN pg_index i ON indrelid = cc.oid\r\n  JOIN pg_class c2 ON c2.oid = i.indexrelid\r\n)\r\nSELECT\r\n  type, schemaname, object_name, bloat, pg_size_pretty(raw_waste) as waste\r\nFROM\r\n(SELECT\r\n  'table' as type,\r\n  schemaname,\r\n  tablename as object_name,\r\n  ROUND(CASE WHEN otta=0 THEN 0.0 ELSE table_bloat.relpages/otta::numeric END,1) AS bloat,\r\n  CASE WHEN relpages < otta THEN '0' ELSE (bs*(table_bloat.relpages-otta)::bigint)::bigint END AS raw_waste\r\nFROM\r\n  table_bloat\r\n    UNION\r\nSELECT\r\n  'index' as type,\r\n  schemaname,\r\n  tablename || '::' || iname as object_name,\r\n  ROUND(CASE WHEN iotta=0 OR ipages=0 THEN 0.0 ELSE ipages/iotta::numeric END,1) AS bloat,\r\n  CASE WHEN ipages < iotta THEN '0' ELSE (bs*(ipages-iotta))::bigint END AS raw_waste\r\nFROM\r\n  index_bloat) bloat_summary\r\nORDER BY raw_waste DESC, bloat DESC",
            "metadata": {},
            "outputs": [
                {
                    "output_type": "display_data",
                    "data": {
                        "text/html": "(103 row(s) affected)"
                    },
                    "metadata": {}
                },
                {
                    "output_type": "display_data",
                    "data": {
                        "text/html": "Total execution time: 0:00:00.359402"
                    },
                    "metadata": {}
                },
                {
                    "output_type": "execute_result",
                    "metadata": {},
                    "execution_count": 1,
                    "data": {
                        "application/vnd.dataresource+json": {
                            "schema": {
                                "fields": [
                                    {
                                        "name": "type"
                                    },
                                    {
                                        "name": "schemaname"
                                    },
                                    {
                                        "name": "object_name"
                                    },
                                    {
                                        "name": "bloat"
                                    },
                                    {
                                        "name": "waste"
                                    }
                                ]
                            },
                            "data": [
                                {
                                    "0": "table",
                                    "1": "pg_catalog",
                                    "2": "pg_depend",
                                    "3": "18.3",
                                    "4": "416 kB"
                                },
                                {
                                    "0": "index",
                                    "1": "pg_catalog",
                                    "2": "pg_depend::pg_depend_reference_index",
                                    "3": "1.3",
                                    "4": "88 kB"
                                },
                                {
                                    "0": "index",
                                    "1": "pg_catalog",
                                    "2": "pg_depend::pg_depend_depender_index",
                                    "3": "1.3",
                                    "4": "80 kB"
                                },
                                {
                                    "0": "index",
                                    "1": "pg_catalog",
                                    "2": "pg_ts_config_map::pg_ts_config_map_index",
                                    "3": "2.0",
                                    "4": "16 kB"
                                },
                                {
                                    "0": "index",
                                    "1": "pg_catalog",
                                    "2": "pg_amproc::pg_amproc_fam_proc_index",
                                    "3": "1.7",
                                    "4": "16 kB"
                                },
                                {
                                    "0": "table",
                                    "1": "pg_catalog",
                                    "2": "pg_class",
                                    "3": "1.2",
                                    "4": "16 kB"
                                },
                                {
                                    "0": "table",
                                    "1": "pg_catalog",
                                    "2": "pg_operator",
                                    "3": "1.2",
                                    "4": "16 kB"
                                },
                                {
                                    "0": "table",
                                    "1": "pg_catalog",
                                    "2": "pg_collation",
                                    "3": "1.1",
                                    "4": "16 kB"
                                },
                                {
                                    "0": "table",
                                    "1": "pg_catalog",
                                    "2": "pg_description",
                                    "3": "1.1",
                                    "4": "16 kB"
                                },
                                {
                                    "0": "index",
                                    "1": "pg_catalog",
                                    "2": "pg_authid::pg_authid_oid_index",
                                    "3": "2.0",
                                    "4": "8192 bytes"
                                },
                                {
                                    "0": "index",
                                    "1": "pg_catalog",
                                    "2": "pg_authid::pg_authid_rolname_index",
                                    "3": "2.0",
                                    "4": "8192 bytes"
                                },
                                {
                                    "0": "index",
                                    "1": "pg_catalog",
                                    "2": "pg_range::pg_range_rngtypid_index",
                                    "3": "2.0",
                                    "4": "8192 bytes"
                                },
                                {
                                    "0": "index",
                                    "1": "pg_catalog",
                                    "2": "pg_cast::pg_cast_source_target_index",
                                    "3": "2.0",
                                    "4": "8192 bytes"
                                },
                                {
                                    "0": "index",
                                    "1": "pg_catalog",
                                    "2": "pg_constraint::pg_constraint_conname_nsp_index",
                                    "3": "2.0",
                                    "4": "8192 bytes"
                                },
                                {
                                    "0": "index",
                                    "1": "pg_catalog",
                                    "2": "pg_constraint::pg_constraint_conrelid_index",
                                    "3": "2.0",
                                    "4": "8192 bytes"
                                },
                                {
                                    "0": "index",
                                    "1": "pg_catalog",
                                    "2": "pg_constraint::pg_constraint_contypid_index",
                                    "3": "2.0",
                                    "4": "8192 bytes"
                                },
                                {
                                    "0": "index",
                                    "1": "pg_catalog",
                                    "2": "pg_constraint::pg_constraint_oid_index",
                                    "3": "2.0",
                                    "4": "8192 bytes"
                                },
                                {
                                    "0": "index",
                                    "1": "pg_catalog",
                                    "2": "pg_am::pg_am_oid_index",
                                    "3": "2.0",
                                    "4": "8192 bytes"
                                },
                                {
                                    "0": "index",
                                    "1": "pg_catalog",
                                    "2": "pg_am::pg_am_name_index",
                                    "3": "2.0",
                                    "4": "8192 bytes"
                                },
                                {
                                    "0": "index",
                                    "1": "pg_catalog",
                                    "2": "pg_database::pg_database_datname_index",
                                    "3": "2.0",
                                    "4": "8192 bytes"
                                },
                                {
                                    "0": "index",
                                    "1": "pg_catalog",
                                    "2": "pg_database::pg_database_oid_index",
                                    "3": "2.0",
                                    "4": "8192 bytes"
                                },
                                {
                                    "0": "index",
                                    "1": "pg_catalog",
                                    "2": "pg_cast::pg_cast_oid_index",
                                    "3": "2.0",
                                    "4": "8192 bytes"
                                },
                                {
                                    "0": "index",
                                    "1": "pg_catalog",
                                    "2": "pg_ts_dict::pg_ts_dict_dictname_index",
                                    "3": "2.0",
                                    "4": "8192 bytes"
                                },
                                {
                                    "0": "index",
                                    "1": "pg_catalog",
                                    "2": "pg_shdepend::pg_shdepend_depender_index",
                                    "3": "2.0",
                                    "4": "8192 bytes"
                                },
                                {
                                    "0": "index",
                                    "1": "pg_catalog",
                                    "2": "pg_shdepend::pg_shdepend_reference_index",
                                    "3": "2.0",
                                    "4": "8192 bytes"
                                },
                                {
                                    "0": "index",
                                    "1": "pg_catalog",
                                    "2": "pg_shdescription::pg_shdescription_o_c_index",
                                    "3": "2.0",
                                    "4": "8192 bytes"
                                },
                                {
                                    "0": "index",
                                    "1": "pg_catalog",
                                    "2": "pg_tablespace::pg_tablespace_oid_index",
                                    "3": "2.0",
                                    "4": "8192 bytes"
                                },
                                {
                                    "0": "index",
                                    "1": "pg_catalog",
                                    "2": "pg_tablespace::pg_tablespace_spcname_index",
                                    "3": "2.0",
                                    "4": "8192 bytes"
                                },
                                {
                                    "0": "index",
                                    "1": "pg_catalog",
                                    "2": "pg_ts_config::pg_ts_config_cfgname_index",
                                    "3": "2.0",
                                    "4": "8192 bytes"
                                },
                                {
                                    "0": "index",
                                    "1": "pg_catalog",
                                    "2": "pg_ts_config::pg_ts_config_oid_index",
                                    "3": "2.0",
                                    "4": "8192 bytes"
                                },
                                {
                                    "0": "index",
                                    "1": "pg_catalog",
                                    "2": "pg_namespace::pg_namespace_nspname_index",
                                    "3": "2.0",
                                    "4": "8192 bytes"
                                },
                                {
                                    "0": "index",
                                    "1": "pg_catalog",
                                    "2": "pg_namespace::pg_namespace_oid_index",
                                    "3": "2.0",
                                    "4": "8192 bytes"
                                },
                                {
                                    "0": "index",
                                    "1": "pg_catalog",
                                    "2": "pg_ts_template::pg_ts_template_oid_index",
                                    "3": "2.0",
                                    "4": "8192 bytes"
                                },
                                {
                                    "0": "index",
                                    "1": "pg_catalog",
                                    "2": "pg_ts_parser::pg_ts_parser_prsname_index",
                                    "3": "2.0",
                                    "4": "8192 bytes"
                                },
                                {
                                    "0": "index",
                                    "1": "pg_catalog",
                                    "2": "pg_pltemplate::pg_pltemplate_name_index",
                                    "3": "2.0",
                                    "4": "8192 bytes"
                                },
                                {
                                    "0": "index",
                                    "1": "pg_catalog",
                                    "2": "pg_ts_parser::pg_ts_parser_oid_index",
                                    "3": "2.0",
                                    "4": "8192 bytes"
                                },
                                {
                                    "0": "index",
                                    "1": "pg_catalog",
                                    "2": "pg_ts_dict::pg_ts_dict_oid_index",
                                    "3": "2.0",
                                    "4": "8192 bytes"
                                },
                                {
                                    "0": "index",
                                    "1": "pg_catalog",
                                    "2": "pg_extension::pg_extension_name_index",
                                    "3": "2.0",
                                    "4": "8192 bytes"
                                },
                                {
                                    "0": "index",
                                    "1": "pg_catalog",
                                    "2": "pg_extension::pg_extension_oid_index",
                                    "3": "2.0",
                                    "4": "8192 bytes"
                                },
                                {
                                    "0": "index",
                                    "1": "pg_catalog",
                                    "2": "pg_ts_template::pg_ts_template_tmplname_index",
                                    "3": "2.0",
                                    "4": "8192 bytes"
                                },
                                {
                                    "0": "index",
                                    "1": "pg_catalog",
                                    "2": "pg_language::pg_language_name_index",
                                    "3": "2.0",
                                    "4": "8192 bytes"
                                },
                                {
                                    "0": "index",
                                    "1": "pg_catalog",
                                    "2": "pg_language::pg_language_oid_index",
                                    "3": "2.0",
                                    "4": "8192 bytes"
                                },
                                {
                                    "0": "table",
                                    "1": "pg_catalog",
                                    "2": "pg_conversion",
                                    "3": "1.5",
                                    "4": "8192 bytes"
                                },
                                {
                                    "0": "index",
                                    "1": "pg_catalog",
                                    "2": "pg_amop::pg_amop_opr_fam_index",
                                    "3": "1.3",
                                    "4": "8192 bytes"
                                },
                                {
                                    "0": "index",
                                    "1": "pg_catalog",
                                    "2": "pg_amproc::pg_amproc_oid_index",
                                    "3": "1.3",
                                    "4": "8192 bytes"
                                },
                                {
                                    "0": "index",
                                    "1": "pg_catalog",
                                    "2": "pg_amop::pg_amop_fam_strat_index",
                                    "3": "1.3",
                                    "4": "8192 bytes"
                                },
                                {
                                    "0": "table",
                                    "1": "pg_catalog",
                                    "2": "pg_amproc",
                                    "3": "1.3",
                                    "4": "8192 bytes"
                                },
                                {
                                    "0": "table",
                                    "1": "pg_catalog",
                                    "2": "pg_amop",
                                    "3": "1.2",
                                    "4": "8192 bytes"
                                },
                                {
                                    "0": "table",
                                    "1": "pg_catalog",
                                    "2": "pg_rewrite",
                                    "3": "1.1",
                                    "4": "8192 bytes"
                                },
                                {
                                    "0": "table",
                                    "1": "pg_catalog",
                                    "2": "pg_type",
                                    "3": "1.0",
                                    "4": "0 bytes"
                                },
                                {
                                    "0": "index",
                                    "1": "pg_catalog",
                                    "2": "pg_amop::pg_amop_oid_index",
                                    "3": "1.0",
                                    "4": "0 bytes"
                                },
                                {
                                    "0": "index",
                                    "1": "pg_catalog",
                                    "2": "pg_conversion::pg_conversion_default_index",
                                    "3": "1.0",
                                    "4": "0 bytes"
                                },
                                {
                                    "0": "index",
                                    "1": "pg_catalog",
                                    "2": "pg_conversion::pg_conversion_name_nsp_index",
                                    "3": "1.0",
                                    "4": "0 bytes"
                                },
                                {
                                    "0": "index",
                                    "1": "pg_catalog",
                                    "2": "pg_conversion::pg_conversion_oid_index",
                                    "3": "1.0",
                                    "4": "0 bytes"
                                },
                                {
                                    "0": "index",
                                    "1": "pg_catalog",
                                    "2": "pg_init_privs::pg_init_privs_o_c_o_index",
                                    "3": "1.0",
                                    "4": "0 bytes"
                                },
                                {
                                    "0": "index",
                                    "1": "pg_catalog",
                                    "2": "pg_opclass::pg_opclass_am_name_nsp_index",
                                    "3": "1.0",
                                    "4": "0 bytes"
                                },
                                {
                                    "0": "index",
                                    "1": "pg_catalog",
                                    "2": "pg_opclass::pg_opclass_oid_index",
                                    "3": "1.0",
                                    "4": "0 bytes"
                                },
                                {
                                    "0": "index",
                                    "1": "pg_catalog",
                                    "2": "pg_opfamily::pg_opfamily_am_name_nsp_index",
                                    "3": "1.0",
                                    "4": "0 bytes"
                                },
                                {
                                    "0": "index",
                                    "1": "pg_catalog",
                                    "2": "pg_opfamily::pg_opfamily_oid_index",
                                    "3": "1.0",
                                    "4": "0 bytes"
                                },
                                {
                                    "0": "table",
                                    "1": "pg_catalog",
                                    "2": "pg_constraint",
                                    "3": "1.0",
                                    "4": "0 bytes"
                                },
                                {
                                    "0": "table",
                                    "1": "pg_catalog",
                                    "2": "pg_database",
                                    "3": "1.0",
                                    "4": "0 bytes"
                                },
                                {
                                    "0": "table",
                                    "1": "pg_catalog",
                                    "2": "pg_extension",
                                    "3": "1.0",
                                    "4": "0 bytes"
                                },
                                {
                                    "0": "table",
                                    "1": "pg_catalog",
                                    "2": "pg_index",
                                    "3": "1.0",
                                    "4": "0 bytes"
                                },
                                {
                                    "0": "table",
                                    "1": "pg_catalog",
                                    "2": "pg_init_privs",
                                    "3": "1.0",
                                    "4": "0 bytes"
                                },
                                {
                                    "0": "table",
                                    "1": "pg_catalog",
                                    "2": "pg_language",
                                    "3": "1.0",
                                    "4": "0 bytes"
                                },
                                {
                                    "0": "table",
                                    "1": "pg_catalog",
                                    "2": "pg_namespace",
                                    "3": "1.0",
                                    "4": "0 bytes"
                                },
                                {
                                    "0": "table",
                                    "1": "pg_catalog",
                                    "2": "pg_opclass",
                                    "3": "1.0",
                                    "4": "0 bytes"
                                },
                                {
                                    "0": "table",
                                    "1": "pg_catalog",
                                    "2": "pg_opfamily",
                                    "3": "1.0",
                                    "4": "0 bytes"
                                },
                                {
                                    "0": "table",
                                    "1": "pg_catalog",
                                    "2": "pg_pltemplate",
                                    "3": "1.0",
                                    "4": "0 bytes"
                                },
                                {
                                    "0": "table",
                                    "1": "pg_catalog",
                                    "2": "pg_range",
                                    "3": "1.0",
                                    "4": "0 bytes"
                                },
                                {
                                    "0": "table",
                                    "1": "pg_catalog",
                                    "2": "pg_shdepend",
                                    "3": "1.0",
                                    "4": "0 bytes"
                                },
                                {
                                    "0": "table",
                                    "1": "pg_catalog",
                                    "2": "pg_shdescription",
                                    "3": "1.0",
                                    "4": "0 bytes"
                                },
                                {
                                    "0": "table",
                                    "1": "pg_catalog",
                                    "2": "pg_tablespace",
                                    "3": "1.0",
                                    "4": "0 bytes"
                                },
                                {
                                    "0": "table",
                                    "1": "pg_catalog",
                                    "2": "pg_ts_config",
                                    "3": "1.0",
                                    "4": "0 bytes"
                                },
                                {
                                    "0": "table",
                                    "1": "pg_catalog",
                                    "2": "pg_ts_config_map",
                                    "3": "1.0",
                                    "4": "0 bytes"
                                },
                                {
                                    "0": "table",
                                    "1": "pg_catalog",
                                    "2": "pg_ts_dict",
                                    "3": "1.0",
                                    "4": "0 bytes"
                                },
                                {
                                    "0": "table",
                                    "1": "pg_catalog",
                                    "2": "pg_ts_parser",
                                    "3": "1.0",
                                    "4": "0 bytes"
                                },
                                {
                                    "0": "table",
                                    "1": "pg_catalog",
                                    "2": "pg_ts_template",
                                    "3": "1.0",
                                    "4": "0 bytes"
                                },
                                {
                                    "0": "index",
                                    "1": "pg_catalog",
                                    "2": "pg_aggregate::pg_aggregate_fnoid_index",
                                    "3": "1.0",
                                    "4": "0 bytes"
                                },
                                {
                                    "0": "table",
                                    "1": "pg_catalog",
                                    "2": "pg_aggregate",
                                    "3": "1.0",
                                    "4": "0 bytes"
                                },
                                {
                                    "0": "table",
                                    "1": "pg_catalog",
                                    "2": "pg_am",
                                    "3": "1.0",
                                    "4": "0 bytes"
                                },
                                {
                                    "0": "table",
                                    "1": "pg_catalog",
                                    "2": "pg_authid",
                                    "3": "1.0",
                                    "4": "0 bytes"
                                },
                                {
                                    "0": "table",
                                    "1": "pg_catalog",
                                    "2": "pg_cast",
                                    "3": "1.0",
                                    "4": "0 bytes"
                                },
                                {
                                    "0": "index",
                                    "1": "pg_catalog",
                                    "2": "pg_description::pg_description_o_c_o_index",
                                    "3": "0.9",
                                    "4": "0 bytes"
                                },
                                {
                                    "0": "table",
                                    "1": "pg_catalog",
                                    "2": "pg_proc",
                                    "3": "0.9",
                                    "4": "0 bytes"
                                },
                                {
                                    "0": "table",
                                    "1": "pg_catalog",
                                    "2": "pg_attribute",
                                    "3": "0.9",
                                    "4": "0 bytes"
                                },
                                {
                                    "0": "index",
                                    "1": "pg_catalog",
                                    "2": "pg_class::pg_class_tblspc_relfilenode_index",
                                    "3": "0.7",
                                    "4": "0 bytes"
                                },
                                {
                                    "0": "index",
                                    "1": "pg_catalog",
                                    "2": "pg_index::pg_index_indrelid_index",
                                    "3": "0.7",
                                    "4": "0 bytes"
                                },
                                {
                                    "0": "index",
                                    "1": "pg_catalog",
                                    "2": "pg_type::pg_type_typname_nsp_index",
                                    "3": "0.7",
                                    "4": "0 bytes"
                                },
                                {
                                    "0": "index",
                                    "1": "pg_catalog",
                                    "2": "pg_class::pg_class_relname_nsp_index",
                                    "3": "0.7",
                                    "4": "0 bytes"
                                },
                                {
                                    "0": "index",
                                    "1": "pg_catalog",
                                    "2": "pg_index::pg_index_indexrelid_index",
                                    "3": "0.7",
                                    "4": "0 bytes"
                                },
                                {
                                    "0": "index",
                                    "1": "pg_catalog",
                                    "2": "pg_type::pg_type_oid_index",
                                    "3": "0.6",
                                    "4": "0 bytes"
                                },
                                {
                                    "0": "index",
                                    "1": "pg_catalog",
                                    "2": "pg_class::pg_class_oid_index",
                                    "3": "0.6",
                                    "4": "0 bytes"
                                },
                                {
                                    "0": "index",
                                    "1": "pg_catalog",
                                    "2": "pg_proc::pg_proc_proname_args_nsp_index",
                                    "3": "0.5",
                                    "4": "0 bytes"
                                },
                                {
                                    "0": "index",
                                    "1": "pg_catalog",
                                    "2": "pg_operator::pg_operator_oprname_l_r_n_index",
                                    "3": "0.4",
                                    "4": "0 bytes"
                                },
                                {
                                    "0": "index",
                                    "1": "pg_catalog",
                                    "2": "pg_attribute::pg_attribute_relid_attnam_index",
                                    "3": "0.4",
                                    "4": "0 bytes"
                                },
                                {
                                    "0": "index",
                                    "1": "pg_catalog",
                                    "2": "pg_operator::pg_operator_oid_index",
                                    "3": "0.4",
                                    "4": "0 bytes"
                                },
                                {
                                    "0": "index",
                                    "1": "pg_catalog",
                                    "2": "pg_attribute::pg_attribute_relid_attnum_index",
                                    "3": "0.3",
                                    "4": "0 bytes"
                                },
                                {
                                    "0": "index",
                                    "1": "pg_catalog",
                                    "2": "pg_rewrite::pg_rewrite_oid_index",
                                    "3": "0.2",
                                    "4": "0 bytes"
                                },
                                {
                                    "0": "index",
                                    "1": "pg_catalog",
                                    "2": "pg_collation::pg_collation_name_enc_nsp_index",
                                    "3": "0.2",
                                    "4": "0 bytes"
                                },
                                {
                                    "0": "index",
                                    "1": "pg_catalog",
                                    "2": "pg_proc::pg_proc_oid_index",
                                    "3": "0.2",
                                    "4": "0 bytes"
                                },
                                {
                                    "0": "index",
                                    "1": "pg_catalog",
                                    "2": "pg_collation::pg_collation_oid_index",
                                    "3": "0.2",
                                    "4": "0 bytes"
                                },
                                {
                                    "0": "index",
                                    "1": "pg_catalog",
                                    "2": "pg_rewrite::pg_rewrite_rel_rulename_index",
                                    "3": "0.2",
                                    "4": "0 bytes"
                                }
                            ]
                        },
                        "text/html": "<table><tr><th>type</th><th>schemaname</th><th>object_name</th><th>bloat</th><th>waste</th></tr><tr><td>table</td><td>pg_catalog</td><td>pg_depend</td><td>18.3</td><td>416 kB</td></tr><tr><td>index</td><td>pg_catalog</td><td>pg_depend::pg_depend_reference_index</td><td>1.3</td><td>88 kB</td></tr><tr><td>index</td><td>pg_catalog</td><td>pg_depend::pg_depend_depender_index</td><td>1.3</td><td>80 kB</td></tr><tr><td>index</td><td>pg_catalog</td><td>pg_ts_config_map::pg_ts_config_map_index</td><td>2.0</td><td>16 kB</td></tr><tr><td>index</td><td>pg_catalog</td><td>pg_amproc::pg_amproc_fam_proc_index</td><td>1.7</td><td>16 kB</td></tr><tr><td>table</td><td>pg_catalog</td><td>pg_class</td><td>1.2</td><td>16 kB</td></tr><tr><td>table</td><td>pg_catalog</td><td>pg_operator</td><td>1.2</td><td>16 kB</td></tr><tr><td>table</td><td>pg_catalog</td><td>pg_collation</td><td>1.1</td><td>16 kB</td></tr><tr><td>table</td><td>pg_catalog</td><td>pg_description</td><td>1.1</td><td>16 kB</td></tr><tr><td>index</td><td>pg_catalog</td><td>pg_authid::pg_authid_oid_index</td><td>2.0</td><td>8192 bytes</td></tr><tr><td>index</td><td>pg_catalog</td><td>pg_authid::pg_authid_rolname_index</td><td>2.0</td><td>8192 bytes</td></tr><tr><td>index</td><td>pg_catalog</td><td>pg_range::pg_range_rngtypid_index</td><td>2.0</td><td>8192 bytes</td></tr><tr><td>index</td><td>pg_catalog</td><td>pg_cast::pg_cast_source_target_index</td><td>2.0</td><td>8192 bytes</td></tr><tr><td>index</td><td>pg_catalog</td><td>pg_constraint::pg_constraint_conname_nsp_index</td><td>2.0</td><td>8192 bytes</td></tr><tr><td>index</td><td>pg_catalog</td><td>pg_constraint::pg_constraint_conrelid_index</td><td>2.0</td><td>8192 bytes</td></tr><tr><td>index</td><td>pg_catalog</td><td>pg_constraint::pg_constraint_contypid_index</td><td>2.0</td><td>8192 bytes</td></tr><tr><td>index</td><td>pg_catalog</td><td>pg_constraint::pg_constraint_oid_index</td><td>2.0</td><td>8192 bytes</td></tr><tr><td>index</td><td>pg_catalog</td><td>pg_am::pg_am_oid_index</td><td>2.0</td><td>8192 bytes</td></tr><tr><td>index</td><td>pg_catalog</td><td>pg_am::pg_am_name_index</td><td>2.0</td><td>8192 bytes</td></tr><tr><td>index</td><td>pg_catalog</td><td>pg_database::pg_database_datname_index</td><td>2.0</td><td>8192 bytes</td></tr><tr><td>index</td><td>pg_catalog</td><td>pg_database::pg_database_oid_index</td><td>2.0</td><td>8192 bytes</td></tr><tr><td>index</td><td>pg_catalog</td><td>pg_cast::pg_cast_oid_index</td><td>2.0</td><td>8192 bytes</td></tr><tr><td>index</td><td>pg_catalog</td><td>pg_ts_dict::pg_ts_dict_dictname_index</td><td>2.0</td><td>8192 bytes</td></tr><tr><td>index</td><td>pg_catalog</td><td>pg_shdepend::pg_shdepend_depender_index</td><td>2.0</td><td>8192 bytes</td></tr><tr><td>index</td><td>pg_catalog</td><td>pg_shdepend::pg_shdepend_reference_index</td><td>2.0</td><td>8192 bytes</td></tr><tr><td>index</td><td>pg_catalog</td><td>pg_shdescription::pg_shdescription_o_c_index</td><td>2.0</td><td>8192 bytes</td></tr><tr><td>index</td><td>pg_catalog</td><td>pg_tablespace::pg_tablespace_oid_index</td><td>2.0</td><td>8192 bytes</td></tr><tr><td>index</td><td>pg_catalog</td><td>pg_tablespace::pg_tablespace_spcname_index</td><td>2.0</td><td>8192 bytes</td></tr><tr><td>index</td><td>pg_catalog</td><td>pg_ts_config::pg_ts_config_cfgname_index</td><td>2.0</td><td>8192 bytes</td></tr><tr><td>index</td><td>pg_catalog</td><td>pg_ts_config::pg_ts_config_oid_index</td><td>2.0</td><td>8192 bytes</td></tr><tr><td>index</td><td>pg_catalog</td><td>pg_namespace::pg_namespace_nspname_index</td><td>2.0</td><td>8192 bytes</td></tr><tr><td>index</td><td>pg_catalog</td><td>pg_namespace::pg_namespace_oid_index</td><td>2.0</td><td>8192 bytes</td></tr><tr><td>index</td><td>pg_catalog</td><td>pg_ts_template::pg_ts_template_oid_index</td><td>2.0</td><td>8192 bytes</td></tr><tr><td>index</td><td>pg_catalog</td><td>pg_ts_parser::pg_ts_parser_prsname_index</td><td>2.0</td><td>8192 bytes</td></tr><tr><td>index</td><td>pg_catalog</td><td>pg_pltemplate::pg_pltemplate_name_index</td><td>2.0</td><td>8192 bytes</td></tr><tr><td>index</td><td>pg_catalog</td><td>pg_ts_parser::pg_ts_parser_oid_index</td><td>2.0</td><td>8192 bytes</td></tr><tr><td>index</td><td>pg_catalog</td><td>pg_ts_dict::pg_ts_dict_oid_index</td><td>2.0</td><td>8192 bytes</td></tr><tr><td>index</td><td>pg_catalog</td><td>pg_extension::pg_extension_name_index</td><td>2.0</td><td>8192 bytes</td></tr><tr><td>index</td><td>pg_catalog</td><td>pg_extension::pg_extension_oid_index</td><td>2.0</td><td>8192 bytes</td></tr><tr><td>index</td><td>pg_catalog</td><td>pg_ts_template::pg_ts_template_tmplname_index</td><td>2.0</td><td>8192 bytes</td></tr><tr><td>index</td><td>pg_catalog</td><td>pg_language::pg_language_name_index</td><td>2.0</td><td>8192 bytes</td></tr><tr><td>index</td><td>pg_catalog</td><td>pg_language::pg_language_oid_index</td><td>2.0</td><td>8192 bytes</td></tr><tr><td>table</td><td>pg_catalog</td><td>pg_conversion</td><td>1.5</td><td>8192 bytes</td></tr><tr><td>index</td><td>pg_catalog</td><td>pg_amop::pg_amop_opr_fam_index</td><td>1.3</td><td>8192 bytes</td></tr><tr><td>index</td><td>pg_catalog</td><td>pg_amproc::pg_amproc_oid_index</td><td>1.3</td><td>8192 bytes</td></tr><tr><td>index</td><td>pg_catalog</td><td>pg_amop::pg_amop_fam_strat_index</td><td>1.3</td><td>8192 bytes</td></tr><tr><td>table</td><td>pg_catalog</td><td>pg_amproc</td><td>1.3</td><td>8192 bytes</td></tr><tr><td>table</td><td>pg_catalog</td><td>pg_amop</td><td>1.2</td><td>8192 bytes</td></tr><tr><td>table</td><td>pg_catalog</td><td>pg_rewrite</td><td>1.1</td><td>8192 bytes</td></tr><tr><td>table</td><td>pg_catalog</td><td>pg_type</td><td>1.0</td><td>0 bytes</td></tr><tr><td>index</td><td>pg_catalog</td><td>pg_amop::pg_amop_oid_index</td><td>1.0</td><td>0 bytes</td></tr><tr><td>index</td><td>pg_catalog</td><td>pg_conversion::pg_conversion_default_index</td><td>1.0</td><td>0 bytes</td></tr><tr><td>index</td><td>pg_catalog</td><td>pg_conversion::pg_conversion_name_nsp_index</td><td>1.0</td><td>0 bytes</td></tr><tr><td>index</td><td>pg_catalog</td><td>pg_conversion::pg_conversion_oid_index</td><td>1.0</td><td>0 bytes</td></tr><tr><td>index</td><td>pg_catalog</td><td>pg_init_privs::pg_init_privs_o_c_o_index</td><td>1.0</td><td>0 bytes</td></tr><tr><td>index</td><td>pg_catalog</td><td>pg_opclass::pg_opclass_am_name_nsp_index</td><td>1.0</td><td>0 bytes</td></tr><tr><td>index</td><td>pg_catalog</td><td>pg_opclass::pg_opclass_oid_index</td><td>1.0</td><td>0 bytes</td></tr><tr><td>index</td><td>pg_catalog</td><td>pg_opfamily::pg_opfamily_am_name_nsp_index</td><td>1.0</td><td>0 bytes</td></tr><tr><td>index</td><td>pg_catalog</td><td>pg_opfamily::pg_opfamily_oid_index</td><td>1.0</td><td>0 bytes</td></tr><tr><td>table</td><td>pg_catalog</td><td>pg_constraint</td><td>1.0</td><td>0 bytes</td></tr><tr><td>table</td><td>pg_catalog</td><td>pg_database</td><td>1.0</td><td>0 bytes</td></tr><tr><td>table</td><td>pg_catalog</td><td>pg_extension</td><td>1.0</td><td>0 bytes</td></tr><tr><td>table</td><td>pg_catalog</td><td>pg_index</td><td>1.0</td><td>0 bytes</td></tr><tr><td>table</td><td>pg_catalog</td><td>pg_init_privs</td><td>1.0</td><td>0 bytes</td></tr><tr><td>table</td><td>pg_catalog</td><td>pg_language</td><td>1.0</td><td>0 bytes</td></tr><tr><td>table</td><td>pg_catalog</td><td>pg_namespace</td><td>1.0</td><td>0 bytes</td></tr><tr><td>table</td><td>pg_catalog</td><td>pg_opclass</td><td>1.0</td><td>0 bytes</td></tr><tr><td>table</td><td>pg_catalog</td><td>pg_opfamily</td><td>1.0</td><td>0 bytes</td></tr><tr><td>table</td><td>pg_catalog</td><td>pg_pltemplate</td><td>1.0</td><td>0 bytes</td></tr><tr><td>table</td><td>pg_catalog</td><td>pg_range</td><td>1.0</td><td>0 bytes</td></tr><tr><td>table</td><td>pg_catalog</td><td>pg_shdepend</td><td>1.0</td><td>0 bytes</td></tr><tr><td>table</td><td>pg_catalog</td><td>pg_shdescription</td><td>1.0</td><td>0 bytes</td></tr><tr><td>table</td><td>pg_catalog</td><td>pg_tablespace</td><td>1.0</td><td>0 bytes</td></tr><tr><td>table</td><td>pg_catalog</td><td>pg_ts_config</td><td>1.0</td><td>0 bytes</td></tr><tr><td>table</td><td>pg_catalog</td><td>pg_ts_config_map</td><td>1.0</td><td>0 bytes</td></tr><tr><td>table</td><td>pg_catalog</td><td>pg_ts_dict</td><td>1.0</td><td>0 bytes</td></tr><tr><td>table</td><td>pg_catalog</td><td>pg_ts_parser</td><td>1.0</td><td>0 bytes</td></tr><tr><td>table</td><td>pg_catalog</td><td>pg_ts_template</td><td>1.0</td><td>0 bytes</td></tr><tr><td>index</td><td>pg_catalog</td><td>pg_aggregate::pg_aggregate_fnoid_index</td><td>1.0</td><td>0 bytes</td></tr><tr><td>table</td><td>pg_catalog</td><td>pg_aggregate</td><td>1.0</td><td>0 bytes</td></tr><tr><td>table</td><td>pg_catalog</td><td>pg_am</td><td>1.0</td><td>0 bytes</td></tr><tr><td>table</td><td>pg_catalog</td><td>pg_authid</td><td>1.0</td><td>0 bytes</td></tr><tr><td>table</td><td>pg_catalog</td><td>pg_cast</td><td>1.0</td><td>0 bytes</td></tr><tr><td>index</td><td>pg_catalog</td><td>pg_description::pg_description_o_c_o_index</td><td>0.9</td><td>0 bytes</td></tr><tr><td>table</td><td>pg_catalog</td><td>pg_proc</td><td>0.9</td><td>0 bytes</td></tr><tr><td>table</td><td>pg_catalog</td><td>pg_attribute</td><td>0.9</td><td>0 bytes</td></tr><tr><td>index</td><td>pg_catalog</td><td>pg_class::pg_class_tblspc_relfilenode_index</td><td>0.7</td><td>0 bytes</td></tr><tr><td>index</td><td>pg_catalog</td><td>pg_index::pg_index_indrelid_index</td><td>0.7</td><td>0 bytes</td></tr><tr><td>index</td><td>pg_catalog</td><td>pg_type::pg_type_typname_nsp_index</td><td>0.7</td><td>0 bytes</td></tr><tr><td>index</td><td>pg_catalog</td><td>pg_class::pg_class_relname_nsp_index</td><td>0.7</td><td>0 bytes</td></tr><tr><td>index</td><td>pg_catalog</td><td>pg_index::pg_index_indexrelid_index</td><td>0.7</td><td>0 bytes</td></tr><tr><td>index</td><td>pg_catalog</td><td>pg_type::pg_type_oid_index</td><td>0.6</td><td>0 bytes</td></tr><tr><td>index</td><td>pg_catalog</td><td>pg_class::pg_class_oid_index</td><td>0.6</td><td>0 bytes</td></tr><tr><td>index</td><td>pg_catalog</td><td>pg_proc::pg_proc_proname_args_nsp_index</td><td>0.5</td><td>0 bytes</td></tr><tr><td>index</td><td>pg_catalog</td><td>pg_operator::pg_operator_oprname_l_r_n_index</td><td>0.4</td><td>0 bytes</td></tr><tr><td>index</td><td>pg_catalog</td><td>pg_attribute::pg_attribute_relid_attnam_index</td><td>0.4</td><td>0 bytes</td></tr><tr><td>index</td><td>pg_catalog</td><td>pg_operator::pg_operator_oid_index</td><td>0.4</td><td>0 bytes</td></tr><tr><td>index</td><td>pg_catalog</td><td>pg_attribute::pg_attribute_relid_attnum_index</td><td>0.3</td><td>0 bytes</td></tr><tr><td>index</td><td>pg_catalog</td><td>pg_rewrite::pg_rewrite_oid_index</td><td>0.2</td><td>0 bytes</td></tr><tr><td>index</td><td>pg_catalog</td><td>pg_collation::pg_collation_name_enc_nsp_index</td><td>0.2</td><td>0 bytes</td></tr><tr><td>index</td><td>pg_catalog</td><td>pg_proc::pg_proc_oid_index</td><td>0.2</td><td>0 bytes</td></tr><tr><td>index</td><td>pg_catalog</td><td>pg_collation::pg_collation_oid_index</td><td>0.2</td><td>0 bytes</td></tr><tr><td>index</td><td>pg_catalog</td><td>pg_rewrite::pg_rewrite_rel_rulename_index</td><td>0.2</td><td>0 bytes</td></tr></table>"
                    }
                }
            ],
            "execution_count": 1
        },
        {
            "cell_type": "markdown",
            "source": "## Monitor Unused Indexes\r\n\r\nWe always our database to be performant, so in order to do that we keep things in memory/cache (see earlier) and we index things so we don’t have to scan everything on disk. But there is a trade-off when it comes to indexing your database. Each index the system has to maintain will slow down your write throughput on the database. This is fine when you do need to speed up queries, as long as they’re being utilized. If you added an index years ago, but something within your application changed and you no longer need it best to remove it. \r\nPostgres makes it simply to query for unused indexes so you can easily give yourself back some performance by removing them:\r\n",
            "metadata": {}
        },
        {
            "cell_type": "code",
            "source": "SELECT\r\n  schemaname || '.' || relname AS table,\r\n  indexrelname AS index,\r\n  pg_size_pretty(pg_relation_size(i.indexrelid)) AS index_size,\r\n  idx_scan as index_scans\r\nFROM pg_stat_user_indexes ui\r\nJOIN pg_index i ON ui.indexrelid = i.indexrelid\r\nWHERE NOT indisunique AND idx_scan < 50 AND pg_relation_size(relid) > 5 * 8192\r\nORDER BY pg_relation_size(i.indexrelid) / nullif(idx_scan, 0) DESC NULLS FIRST,\r\npg_relation_size(i.indexrelid) DESC;",
            "metadata": {},
            "outputs": []
        },
        {
            "cell_type": "markdown",
            "source": "## Monitor query performance\r\n\r\nChecking in on this set of queries regularly can tell you where is best to add indexes or optimize your application so your query calls may not be so excessive. \r\n\r\n#### Query courtesy of HN commenter (https://news.ycombinator.com/item?id=19226861)",
            "metadata": {}
        },
        {
            "cell_type": "code",
            "source": "SELECT query, \r\n       calls, \r\n       total_time, \r\n       total_time / calls as time_per, \r\n       stddev_time, \r\n       rows, \r\n       rows / calls as rows_per,\r\n       100.0 * shared_blks_hit / nullif(shared_blks_hit + shared_blks_read, 0) AS hit_percent\r\nFROM pg_stat_statements\r\nWHERE query not similar to '%pg_%'\r\nand calls > 500\r\n--ORDER BY calls\r\n--ORDER BY total_time\r\norder by time_per\r\n--ORDER BY rows_per\r\nDESC LIMIT 20;",
            "metadata": {},
            "outputs": [],
            "execution_count": 4
        }
    ]
}